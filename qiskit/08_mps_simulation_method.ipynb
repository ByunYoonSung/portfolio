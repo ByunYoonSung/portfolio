{
 "cells": [
  {
   "cell_type": "code",
   "execution_count": 26,
   "id": "2a983246",
   "metadata": {},
   "outputs": [],
   "source": [
    "from qiskit_aer.utils import approximate_quantum_error, approximate_noise_model\n",
    "import numpy as np\n",
    "from qiskit_aer.noise import amplitude_damping_error, reset_error, pauli_error\n",
    "from qiskit.quantum_info import Kraus\n",
    "import matplotlib.pyplot as plt\n",
    "from qiskit import QuantumCircuit\n",
    "from qiskit import Aer, transpile\n",
    "from qiskit.tools.visualization import plot_histogram, plot_state_city\n",
    "import qiskit.quantum_info as qi"
   ]
  },
  {
   "cell_type": "markdown",
   "id": "fac09707",
   "metadata": {},
   "source": [
    "# 7. Matrix Product state simulation method"
   ]
  },
  {
   "cell_type": "markdown",
   "id": "7503b8d9",
   "metadata": {},
   "source": [
    "#### aer은 statevector, stabilizer, extended_stabilizer, matrix_product_state 등등을 포함하는 많은 시뮬레이션 방법을 지원한다"
   ]
  },
  {
   "cell_type": "code",
   "execution_count": 3,
   "id": "a754afe6",
   "metadata": {
    "scrolled": true
   },
   "outputs": [
    {
     "data": {
      "text/plain": [
       "[AerSimulator('aer_simulator'),\n",
       " AerSimulator('aer_simulator_statevector'),\n",
       " AerSimulator('aer_simulator_density_matrix'),\n",
       " AerSimulator('aer_simulator_stabilizer'),\n",
       " AerSimulator('aer_simulator_matrix_product_state'),\n",
       " AerSimulator('aer_simulator_extended_stabilizer'),\n",
       " AerSimulator('aer_simulator_unitary'),\n",
       " AerSimulator('aer_simulator_superop'),\n",
       " QasmSimulator('qasm_simulator'),\n",
       " StatevectorSimulator('statevector_simulator'),\n",
       " UnitarySimulator('unitary_simulator'),\n",
       " PulseSimulator('pulse_simulator')]"
      ]
     },
     "execution_count": 3,
     "metadata": {},
     "output_type": "execute_result"
    }
   ],
   "source": [
    "Aer.backends()"
   ]
  },
  {
   "cell_type": "markdown",
   "id": "ace6e2aa",
   "metadata": {},
   "source": [
    "#### aer_simulator_matrix_product_state는 slightly entangled 상태에 한정해서 계산 속도가 매우 빠른 시뮬레이터"
   ]
  },
  {
   "cell_type": "markdown",
   "id": "6ada4bd4",
   "metadata": {},
   "source": [
    "#### 어떻게 빠르게 만들 수 있는지에 대해서 자세히 알아볼 것임"
   ]
  },
  {
   "cell_type": "markdown",
   "id": "0371dce0",
   "metadata": {},
   "source": [
    "관련 논문 : \n",
    "\n",
    "https://arxiv.org/abs/quant-ph/0301063 : Efficient classical simulation of slightly entangled quantum computations (2008)\n",
    "\n",
    "'slightly entangled state'에 한해 이 방법이 효과적인 계산량 감소를 얻을 수 있다는 것을 나타냄.\n",
    "\n",
    "https://arxiv.org/abs/1008.3477 : The density-matrix renormalization group in the age of matrix product states\n",
    "\n",
    "세부적인 설명들(약 120쪽)"
   ]
  },
  {
   "cell_type": "markdown",
   "id": "0124a72c",
   "metadata": {},
   "source": [
    "2차원 힐베르트 공간에서 n개의 스핀이 중첩된 상태의 일반적인 표현은 계수의 개수가 지수함수적으로 증가함.\n",
    "\n",
    "### $|\\psi\\rangle = \\Sigma^1_{i_1=0}\\Sigma^1_{i_2=0} ... \\Sigma^1_{i_n=0}c_{i_1i_2...i_n}|i_1\\rangle\\ \\otimes...\\otimes|i_n\\rangle$ $\\cdot$ $\\cdot$ $\\cdot$ ($\\star$)\n",
    "\n",
    "\n",
    "ex) 2차원 힐베르트 공간의 2-cubit system $|\\psi\\rangle=c_{00}|00\\rangle+c_{01}|01\\rangle+c_{10}|10\\rangle+c_{11}|11\\rangle$\n",
    "\n"
   ]
  },
  {
   "cell_type": "markdown",
   "id": "01181714",
   "metadata": {},
   "source": [
    "but MPS(Matrix product state) 표현을 사용하면, $|\\psi\\rangle$를 텐서와 벡터로 분해할 수 있음. "
   ]
  },
  {
   "cell_type": "markdown",
   "id": "d11e02b0",
   "metadata": {},
   "source": [
    "#### Schmidt Decomposition : tensor product로 만들어진 계 내부 임의의 pure state는 subset의 basis들의 tensor product로 나타낼 수 있다"
   ]
  },
  {
   "cell_type": "markdown",
   "id": "ce456a31",
   "metadata": {},
   "source": [
    "### $|\\psi\\rangle => \\Gamma^{[1]}\\lambda^{[1]}\\Gamma^{[2]}\\lambda^{[2]}...\\Gamma^{[l]}...\\lambda^{[n-1]}\\Gamma^{[n]}$의 형태"
   ]
  },
  {
   "cell_type": "markdown",
   "id": "d589df97",
   "metadata": {},
   "source": [
    "$\\Gamma^{[l]}$ : l번째 큐빗을 나타내는 텐서\n",
    "\n",
    "$\\lambda^{[l]}$ : Normalization 벡터"
   ]
  },
  {
   "cell_type": "markdown",
   "id": "2c6a05d7",
   "metadata": {},
   "source": [
    "#### 이렇게 나타내는 게 왜 좋나?? ㅡ> 계산복잡도가 exponential에서 polynomial로 바뀜"
   ]
  },
  {
   "cell_type": "markdown",
   "id": "e37eb280",
   "metadata": {},
   "source": [
    "#### Lemma 1. :\n",
    "\n",
    "Updating the description ($\\star$) of state $|\\psi \\rangle$ after a unitary operation U acts on qubit $l$ does only involve transforming $\\Gamma^{[l]}$. The incurred computational cost is of $\\varnothing(\\chi^2$) basic operations.\n"
   ]
  },
  {
   "cell_type": "markdown",
   "id": "e824b1a7",
   "metadata": {},
   "source": [
    "ㅡ> qubit $l$에 가해지는 유니터리는 $\\Gamma^{[l]}$만 변화시킨다."
   ]
  },
  {
   "cell_type": "markdown",
   "id": "aeae6294",
   "metadata": {},
   "source": [
    "#### Lemma 2. : \n",
    "\n",
    "Updating the description (4) of state $|\\psi \\rangle$ after a unitary operation V acts on qubits $l$ and $l + 1$\n",
    "does only involve transforming $\\Gamma^{[l]}$, $\\lambda^{[l]}$ and $\\Gamma^{[l+1]}$. This\n",
    "can be achieved with Ø($\\chi^3$) basic operations.\n",
    "\n",
    "ㅡ> 큐빗 $l$과 $l+1$에 작용하는 two qubit gate는 $\\Gamma^{[l]}$, $\\lambda^{[l]}$, $\\Gamma^{[l+1]}$ 만 변화시킨다."
   ]
  },
  {
   "cell_type": "markdown",
   "id": "ada139bf",
   "metadata": {},
   "source": [
    "#### ㅡㅡ> 계산 복잡도가 polynomial 형태로 증가한다"
   ]
  },
  {
   "cell_type": "markdown",
   "id": "62b76409",
   "metadata": {},
   "source": [
    "우리가 이 방법을 simulator에서 사용할 수 있는 이유 :"
   ]
  },
  {
   "cell_type": "markdown",
   "id": "4e0fa086",
   "metadata": {},
   "source": [
    "#### Theorem 1. : \n",
    "\n",
    "If through a pure-state quantum computation $\\chi_n$ is upper bounded by poly(n), then the computation can be classically simulated with poly(n) memory space and computational time.\n",
    "\n",
    "복잡도가 poly(n) 형태로 증가하면, poly(n)만큼의 memory space와 computational time으로 시뮬레이션이 가능하다."
   ]
  },
  {
   "cell_type": "markdown",
   "id": "55add0cc",
   "metadata": {},
   "source": [
    "#### Theorem 2. :\n",
    "    \n",
    "If $\\chi_n$ grows subexponentially in n, then the quantum computation can be classically simulated with subexp(n) memory space and computational\n",
    "time.\n",
    "\n",
    "subexponentially하게 증가하면, 자원도 그만큼 필요하다\n",
    "\n",
    "ㅡ> Classical computer에 비해 exponential한 계산시간 감소가 되지 않을 조건을 알려줌"
   ]
  },
  {
   "cell_type": "markdown",
   "id": "8e6fdb88",
   "metadata": {},
   "source": [
    "장점 : 빠름. (회로 게이트 상태에 따라 highly-entangled 되어있거나 noise가 매우 높으면 장점이 사라질 수도 있음)\n",
    "\n",
    "단점 : 실행 중에 상태벡터를 생성하는 과정이 들어가 있으면, 장점이 사라짐. 상태벡터로 변환하는 과정은 지수함수적인 계산량을 요구하기 때문.\n"
   ]
  },
  {
   "cell_type": "code",
   "execution_count": 51,
   "id": "af40b649",
   "metadata": {},
   "outputs": [
    {
     "data": {
      "image/png": "[encoded data removed]",
      "text/plain": [
       "<Figure size 504x360 with 1 Axes>"
      ]
     },
     "execution_count": 51,
     "metadata": {},
     "output_type": "execute_result"
    }
   ],
   "source": [
    "import numpy as np\n",
    "\n",
    "# Import Qiskit\n",
    "from qiskit import QuantumCircuit, transpile\n",
    "from qiskit_aer import AerSimulator\n",
    "\n",
    "# Construct quantum circuit\n",
    "circ = QuantumCircuit(2, 2)\n",
    "circ.h(0)\n",
    "circ.cx(0, 1)\n",
    "circ.measure([0,1], [0,1])\n",
    "\n",
    "# Select the AerSimulator from the Aer provider\n",
    "simulator = AerSimulator(method='matrix_product_state')\n",
    "try:\n",
    "    simulator_gpu = Aer.get_backend('aer_simulator')\n",
    "    simulator_gpu.set_options(device='GPU')\n",
    "except AerError as e:\n",
    "    print(e)\n",
    "# Run and get counts, using the matrix_product_state method\n",
    "tcirc = transpile(circ, simulator)\n",
    "result = simulator.run(tcirc).result()\n",
    "data = result.data(0)\n",
    "counts = result.get_counts(0)\n",
    "plot_histogram(counts)\n",
    "#data"
   ]
  },
  {
   "cell_type": "code",
   "execution_count": 28,
   "id": "df9cca7e",
   "metadata": {},
   "outputs": [
    {
     "data": {
      "text/plain": [
       "{'counts': {'0x0': 501, '0x3': 523},\n",
       " 'my_sv': Statevector([0.70710678+0.j, 0.        +0.j, 0.        +0.j,\n",
       "              0.70710678+0.j],\n",
       "             dims=(2, 2)),\n",
       " 'my_mps': ([(array([[1.-0.j, 0.-0.j]]), array([[0.-0.j, 1.-0.j]])),\n",
       "   (array([[1.-0.j],\n",
       "           [0.-0.j]]),\n",
       "    array([[0.-0.j],\n",
       "           [1.-0.j]]))],\n",
       "  [array([0.70710678, 0.70710678])])}"
      ]
     },
     "execution_count": 28,
     "metadata": {},
     "output_type": "execute_result"
    }
   ],
   "source": [
    "circ = QuantumCircuit(2, 2)\n",
    "circ.h(0)\n",
    "circ.cx(0, 1)\n",
    "\n",
    "# Define a snapshot that shows the current state vector\n",
    "circ.save_statevector(label='my_sv')\n",
    "circ.save_matrix_product_state(label='my_mps')\n",
    "circ.measure([0,1], [0,1])\n",
    "\n",
    "# Execute and get saved data\n",
    "tcirc = transpile(circ, simulator)\n",
    "result = simulator.run(tcirc).result()\n",
    "data = result.data(0)\n",
    "\n",
    "#print the result data\n",
    "data"
   ]
  },
  {
   "cell_type": "code",
   "execution_count": 59,
   "id": "c2bd65b3",
   "metadata": {
    "scrolled": false
   },
   "outputs": [
    {
     "name": "stdout",
     "output_type": "stream",
     "text": [
      "Time taken: 2.3447325229644775 sec\n"
     ]
    },
    {
     "data": {
      "text/plain": [
       "{'111111111111111111111': 518, '000000000000000000000': 506}"
      ]
     },
     "execution_count": 59,
     "metadata": {},
     "output_type": "execute_result"
    }
   ],
   "source": [
    "num_qubits = 21\n",
    "circ = QuantumCircuit(num_qubits, num_qubits)\n",
    "\n",
    "# Create EPR state\n",
    "circ.h(0)\n",
    "for i in range (0, num_qubits-1):\n",
    "    circ.cx(i, i+1)\n",
    "\n",
    "# Measure\n",
    "circ.save_statevector(label='my_sv')\n",
    "#circ.save_matrix_product_state(label='my_mps')\n",
    "circ.measure(range(num_qubits), range(num_qubits))\n",
    "\n",
    "tcirc = transpile(circ, simulator)\n",
    "result = simulator.run(tcirc).result()\n",
    "print(\"Time taken: {} sec\".format(result.time_taken))\n",
    "counts = result.get_counts()\n",
    "counts"
   ]
  },
  {
   "cell_type": "code",
   "execution_count": 70,
   "id": "00cea9dd",
   "metadata": {},
   "outputs": [
    {
     "name": "stdout",
     "output_type": "stream",
     "text": [
      "Time taken: 1.47007155418396 sec\n"
     ]
    },
    {
     "data": {
      "text/plain": [
       "{'11111111111111111111111111111111111111111111111111111111111111111111111111111111111111111111111111111111111111111111111111111111111111111111111111111111111111111111111111111111111111111111111111111111': 508,\n",
       " '00000000000000000000000000000000000000000000000000000000000000000000000000000000000000000000000000000000000000000000000000000000000000000000000000000000000000000000000000000000000000000000000000000000': 516}"
      ]
     },
     "execution_count": 70,
     "metadata": {},
     "output_type": "execute_result"
    }
   ],
   "source": [
    "num_qubits = 200\n",
    "circ = QuantumCircuit(num_qubits, num_qubits)\n",
    "\n",
    "# Create EPR state\n",
    "circ.h(0)\n",
    "for i in range (0, num_qubits-1):\n",
    "    circ.cx(i, i+1)\n",
    "\n",
    "# Measure\n",
    "circ.measure(range(num_qubits), range(num_qubits))\n",
    "\n",
    "tcirc = transpile(circ, simulator)\n",
    "result = simulator.run(tcirc).result()\n",
    "print(\"Time taken: {} sec\".format(result.time_taken))\n",
    "counts = result.get_counts()\n",
    "counts"
   ]
  }
 ],
 "metadata": {
  "kernelspec": {
   "display_name": "Python 3 (ipykernel)",
   "language": "python",
   "name": "python3"
  },
  "language_info": {
   "codemirror_mode": {
    "name": "ipython",
    "version": 3
   },
   "file_extension": ".py",
   "mimetype": "text/x-python",
   "name": "python",
   "nbconvert_exporter": "python",
   "pygments_lexer": "ipython3",
   "version": "3.9.7"
  }
 },
 "nbformat": 4,
 "nbformat_minor": 5
}
