{
 "cells": [
  {
   "cell_type": "code",
   "execution_count": 1,
   "id": "11ef512c",
   "metadata": {},
   "outputs": [],
   "source": [
    "import numpy as np\n",
    "from pomegranate import *"
   ]
  },
  {
   "cell_type": "markdown",
   "id": "fd036237",
   "metadata": {},
   "source": [
    "# 1. "
   ]
  },
  {
   "cell_type": "markdown",
   "id": "f4ecd392",
   "metadata": {},
   "source": [
    "### Write a code for building the Bayesian network diagram above using Pomegranate (or using whatever you want)."
   ]
  },
  {
   "cell_type": "markdown",
   "id": "971d4a5e",
   "metadata": {},
   "source": [
    "$Sol)$"
   ]
  },
  {
   "cell_type": "code",
   "execution_count": 2,
   "id": "99356a5f",
   "metadata": {},
   "outputs": [],
   "source": [
    "# 노드 구성\n",
    "\n",
    "Smokes = Node(DiscreteDistribution({\n",
    "    'smokesTrue' : 0.2,\n",
    "    'smokesFalse' : 0.8,\n",
    "}),name='Smokes')\n",
    "\n",
    "LungDisease = Node(ConditionalProbabilityTable([\n",
    "    ['smokesTrue','lungTrue',0.1],\n",
    "    ['smokesTrue','lungFalse',0.9],\n",
    "    ['smokesFalse','lungTrue',0.001],\n",
    "    ['smokesFalse','lungFalse',0.999],\n",
    "],[Smokes.distribution]),name='LungDisease')\n",
    "\n",
    "ShortnessOfBreath = Node(ConditionalProbabilityTable([\n",
    "    ['lungTrue','shortTrue',0.2],\n",
    "    ['lungTrue','shortFalse',0.8],\n",
    "    ['lungFalse','shortTrue',0.01],\n",
    "    ['lungFalse','shortFalse',0.99],\n",
    "],[LungDisease.distribution]),name='ShortnessOfBreath')\n",
    "\n",
    "ChestPain = Node(ConditionalProbabilityTable([\n",
    "    ['lungTrue','chestTrue',0.2],\n",
    "    ['lungTrue','chestFalse',0.8],\n",
    "    ['lungFalse','chestTrue',0.01],\n",
    "    ['lungFalse','chestFalse',0.99],\n",
    "],[LungDisease.distribution]),name='ChestPain')\n",
    "\n",
    "Cold = Node(DiscreteDistribution({\n",
    "    'coldTrue' : 0.02,\n",
    "    'coldFalse' : 0.98,\n",
    "}),name='Cold')\n",
    "\n",
    "Fever = Node(ConditionalProbabilityTable([\n",
    "    ['coldTrue','feverTrue',0.3],\n",
    "    ['coldTrue','feverFalse',0.7],\n",
    "    ['coldFalse','feverTrue',0.01],\n",
    "    ['coldFalse','feverFalse',0.99],\n",
    "],[Cold.distribution]),name='Fever')\n",
    "\n",
    "Cough = Node(ConditionalProbabilityTable([\n",
    "    ['lungTrue','coldTrue','coughTrue',0.75],\n",
    "    ['lungTrue','coldTrue','coughFalse',0.25],\n",
    "    ['lungTrue','coldFalse','coughTrue',0.5],\n",
    "    ['lungTrue','coldFalse','coughFalse',0.5],\n",
    "    ['lungFalse','coldTrue','coughTrue',0.5],\n",
    "    ['lungFalse','coldTrue','coughFalse',0.5],\n",
    "    ['lungFalse','coldFalse','coughTrue',0.01],\n",
    "    ['lungFalse','coldFalse','coughFalse',0.99],\n",
    "],[LungDisease.distribution, Cold.distribution]),name='Cough')\n",
    "\n",
    "\n",
    "# 모델 생성\n",
    "\n",
    "model = BayesianNetwork()\n",
    "model.add_states(Smokes,LungDisease,ShortnessOfBreath,ChestPain,Cough,Fever,Cold)\n",
    "\n",
    "# edge 추가\n",
    "\n",
    "model.add_edge(Smokes, LungDisease)\n",
    "model.add_edge(LungDisease, ShortnessOfBreath)\n",
    "model.add_edge(LungDisease, ChestPain)\n",
    "model.add_edge(LungDisease, Cough)\n",
    "model.add_edge(Cold, Cough)\n",
    "model.add_edge(Cold, Fever)\n",
    "\n",
    "# 완료\n",
    "\n",
    "model.bake()\n",
    "\n"
   ]
  },
  {
   "cell_type": "markdown",
   "id": "45c59a73",
   "metadata": {},
   "source": [
    "# 2."
   ]
  },
  {
   "cell_type": "markdown",
   "id": "0b82b526",
   "metadata": {},
   "source": [
    "### Write a code for calculating the joint probability\n",
    "\n",
    "### $P(Smokes = T, LungDisease = T, Shortness \\ of \\ Breath = T, ChestP ain = F, Cough = T, Fever = F, Cold = F)$. (Attach the code and result)"
   ]
  },
  {
   "cell_type": "markdown",
   "id": "7e5316b7",
   "metadata": {},
   "source": [
    "$Sol)$"
   ]
  },
  {
   "cell_type": "code",
   "execution_count": 15,
   "id": "62944ecb",
   "metadata": {},
   "outputs": [
    {
     "name": "stdout",
     "output_type": "stream",
     "text": [
      "P(Smokes = T, LungDisease = T, Shortness of Breath = T, ChestP ain = F, Cough = T, Fever = F, Cold = F) = 0.00155232\n"
     ]
    }
   ],
   "source": [
    "prob = model.probability([['smokesTrue','lungTrue','shortTrue','chestFalse','coughTrue','feverFalse','coldFalse']])\n",
    "\n",
    "print(f'P(Smokes = T, LungDisease = T, Shortness of Breath = T, ChestP ain = F, Cough = T, Fever = F, Cold = F) = {prob:.8f}')"
   ]
  },
  {
   "cell_type": "markdown",
   "id": "e4d95024",
   "metadata": {},
   "source": [
    "# 3. "
   ]
  },
  {
   "cell_type": "markdown",
   "id": "601ecf2d",
   "metadata": {},
   "source": [
    "### Write the equation and explanation for calculating the probability of the Problem 2. (You can use the calculator)"
   ]
  },
  {
   "cell_type": "markdown",
   "id": "fd9b5a7a",
   "metadata": {},
   "source": [
    "##### $Sol)$"
   ]
  },
  {
   "cell_type": "markdown",
   "id": "a6a78059",
   "metadata": {},
   "source": [
    "$P(Smokes = T, LungDisease = T, Shortness \\ of \\ Breath = T, ChestPain = F, Cough = T, Fever = F, Cold = F)$\n",
    "\n",
    "$= P(Shortness of Breath = T | LungDisease = T)$ $\\times$ $P(ChestPain = False | LungDisease = True)$ $\\times$\n",
    "\n",
    "$P(Cough = T | LungDisease = T, Cold = F)$ $\\times$ $P(Fever = F | Cold = F)$ $\\times$ $P(LungDisease = T | Smokes = T)$ $\\times$ \n",
    "\n",
    "$P(Smokes = T)$ $\\times$ $P(Cold = False)$\n",
    "\n",
    "= $0.2$ $\\times$ $0.8$ $\\times$ $0.5$ $\\times$ $0.99$ $\\times$ $0.1$ $\\times$ $0.2$ $\\times$ $0.98$\n",
    "\n",
    "= $0.00155232$"
   ]
  },
  {
   "cell_type": "markdown",
   "id": "f2109428",
   "metadata": {},
   "source": [
    "# 4."
   ]
  },
  {
   "cell_type": "markdown",
   "id": "7b0a6aa1",
   "metadata": {},
   "source": [
    "### Write a code for calculating the probabilities of all nodes given ChestPain = T. \n",
    "\n",
    "### For example, calculate P(Smokes = T|ChestPain = T), P(Smokes = F|ChestPain = T), P(LungDisease = T|ChestPain = T), P(LungDisease = F|ChestPain = T),... (Attach the code and result)"
   ]
  },
  {
   "cell_type": "markdown",
   "id": "cae068d9",
   "metadata": {},
   "source": [
    "$Sol)$"
   ]
  },
  {
   "cell_type": "code",
   "execution_count": 14,
   "id": "3f6b69b4",
   "metadata": {},
   "outputs": [
    {
     "name": "stdout",
     "output_type": "stream",
     "text": [
      "Smokes\n",
      " P(smokes = T|ChestPain = T): 0.4157\n",
      " P(smokes = F|ChestPain = T): 0.5843\n",
      "LungDisease\n",
      " P(lung = F|ChestPain = T): 0.7018\n",
      " P(lung = T|ChestPain = T): 0.2982\n",
      "ShortnessOfBreath\n",
      " P(short = F|ChestPain = T): 0.9333\n",
      " P(short = T|ChestPain = T): 0.0667\n",
      "ChestPain: chestTrue\n",
      "Cough\n",
      " P(cough = T|ChestPain = T): 0.1645\n",
      " P(cough = F|ChestPain = T): 0.8355\n",
      "Fever\n",
      " P(fever = F|ChestPain = T): 0.9842\n",
      " P(fever = T|ChestPain = T): 0.0158\n",
      "Cold\n",
      " P(cold = T|ChestPain = T): 0.0200\n",
      " P(cold = F|ChestPain = T): 0.9800\n"
     ]
    }
   ],
   "source": [
    "# pomegranate의 조건부확률 코드를 사용하자.\n",
    "\n",
    "predictions = model.predict_proba({\n",
    "    \"ChestPain\": \"chestTrue\",\n",
    "})\n",
    "\n",
    "\n",
    "# 출력하는 코드\n",
    "for node, prediction in zip(model.states, predictions):\n",
    "    if isinstance(prediction, str):\n",
    "        print(f\"{node.name}: {prediction}\")\n",
    "    else:\n",
    "        print(f\"{node.name}\")\n",
    "        for value, probability in prediction.parameters[0].items():\n",
    "            if value[-2] == 's' :\n",
    "                valuetemp = value[0:-5]\n",
    "                print(f\" P({valuetemp} = F|ChestPain = T): {probability:.4f}\")\n",
    "            if value[-2] == 'u' :\n",
    "                valuetemp = value[0:-4]\n",
    "                print(f\" P({valuetemp} = T|ChestPain = T): {probability:.4f}\")\n",
    "\n"
   ]
  },
  {
   "cell_type": "markdown",
   "id": "9746fbcd",
   "metadata": {},
   "source": [
    "# 5."
   ]
  },
  {
   "cell_type": "markdown",
   "id": "5495d36c",
   "metadata": {},
   "source": [
    "### Write the equation and explanation for calculating the probability $P(Cough = T|ChestPain =T)$ of the Problem 4. (You can use the calculator)"
   ]
  },
  {
   "cell_type": "markdown",
   "id": "9d37f804",
   "metadata": {},
   "source": [
    "$Sol)$"
   ]
  },
  {
   "cell_type": "markdown",
   "id": "023d75d2",
   "metadata": {},
   "source": [
    "$P(Cough = T|ChestPain = T)$ = $\\alpha P(Cough = T, ChestPain = T)$ $\\qquad$ ($\\alpha$ = normalize factor)\n",
    "\n",
    "$ = \\sum_{Smokes, Cold, LungDisease} \\alpha P(Cough = T,ChestPain = T,\\mathbf{Smokes}, \\mathbf{Cold},\\mathbf{LungDisease})$ $\\qquad$ (Bold letters are variable.)\n",
    "\n",
    "= $\\sum_{Smokes, Cold, LungDisease} \\alpha P(\\mathbf{Smokes})P(\\mathbf{Cold}) P(\\mathbf{LungDisease}|\\mathbf{Smokes}) P(ChestPain = T|\\mathbf{LungDisease}) P(Cough = T|\\mathbf{Cold},\\mathbf{LungDisease})$\n",
    "\n"
   ]
  },
  {
   "cell_type": "markdown",
   "id": "fb5238d1",
   "metadata": {},
   "source": [
    "$\\alpha( 0.2 \\ \\times \\ 0.02 \\ \\times \\ 0.1 \\ \\times \\ 0.2 \\ \\times \\ 0.75$ $\\qquad$ (TTT)\n",
    "\n",
    "$+ 0.2 \\ \\times \\ 0.02 \\ \\times \\ 0.9 \\ \\times \\ 0.01 \\ \\times \\ 0.5$ $\\qquad$ (TTF)\n",
    "\n",
    "$+ 0.2 \\ \\times \\ 0.98 \\ \\times \\ 0.1 \\ \\times \\ 0.2 \\ \\times \\ 0.5$ $\\qquad$ (TFT)\n",
    "\n",
    "$+ 0.2 \\ \\times \\ 0.98 \\ \\times \\ 0.9 \\ \\times \\ 0.01 \\ \\times \\ 0.01$ $\\qquad$ (TFF)\n",
    "\n",
    "$+ 0.8 \\ \\times \\ 0.02 \\ \\times \\ 0.001 \\ \\times \\ 0.2 \\ \\times \\ 0.75$ $\\qquad$ (FTT)\n",
    "\n",
    "$+ 0.8 \\ \\times \\ 0.02 \\ \\times \\ 0.999 \\ \\times \\ 0.01 \\ \\times \\ 0.5$ $\\qquad$ (FTF)\n",
    "\n",
    "$+ 0.8 \\ \\times \\ 0.98 \\ \\times \\ 0.001 \\ \\times \\ 0.2 \\ \\times \\ 0.5$ $\\qquad$ (FFT)\n",
    "\n",
    "$+ 0.8 \\ \\times \\ 0.98 \\ \\times \\ 0.999 \\ \\times \\ 0.01 \\ \\times \\ 0.01)$ $\\qquad$ (FFF)\n",
    "\n",
    "$= \\alpha \\times 0.0022946816$"
   ]
  },
  {
   "cell_type": "code",
   "execution_count": 5,
   "id": "35ca9d33",
   "metadata": {},
   "outputs": [
    {
     "name": "stdout",
     "output_type": "stream",
     "text": [
      "0.0022946816\n"
     ]
    }
   ],
   "source": [
    "# 확률 계산\n",
    "\n",
    "a = [0.2,0.2,0.2,0.2,0.8,0.8,0.8,0.8]\n",
    "b = [0.02,0.02,0.98,0.98,0.02,0.02,0.98,0.98]\n",
    "c = [0.1,0.9,0.1,0.9,0.001,0.999,0.001,0.999]\n",
    "d = [0.2,0.01,0.2,0.01,0.2,0.01,0.2,0.01]\n",
    "e = [0.75,0.5,0.5,0.01,0.75,0.5,0.5,0.01]\n",
    "sol1 = 0\n",
    "for i in range(8) :\n",
    "    sol1 += a[i]*b[i]*c[i]*d[i]*e[i]\n",
    "\n",
    "print(f'{sol1:.10f}')"
   ]
  },
  {
   "cell_type": "markdown",
   "id": "0f848413",
   "metadata": {},
   "source": [
    "Find $P(cough=F|ChestPain=T)$ in the same way."
   ]
  },
  {
   "cell_type": "markdown",
   "id": "ac07c67c",
   "metadata": {},
   "source": [
    "$P(Cough = F|ChestPain = T)$ = $\\alpha P(Cough = F, ChestPain = T)$ $\\qquad$ ($\\alpha$ = normalize factor)\n",
    "\n",
    "$ = \\sum_{Smokes, Cold, LungDisease} \\alpha P(Cough = F,ChestPain = T,\\mathbf{Smokes}, \\mathbf{Cold},\\mathbf{LungDisease})$ $\\qquad$(Bold letters are variable.)\n",
    "\n",
    "= $\\sum_{Smokes, Cold, LungDisease} \\alpha P(\\mathbf{Smokes})P(\\mathbf{Cold}) P(\\mathbf{LungDisease}|\\mathbf{Smokes}) P(ChestPain = T|\\mathbf{LungDisease}) P(Cough = F|\\mathbf{Cold},\\mathbf{LungDisease})$\n",
    "\n"
   ]
  },
  {
   "cell_type": "markdown",
   "id": "184e7eee",
   "metadata": {},
   "source": [
    "$\\alpha( 0.2 \\ \\times \\ 0.02 \\ \\times \\ 0.1 \\ \\times \\ 0.2 \\ \\times \\ 0.25$ $\\qquad$ (TTT)\n",
    "\n",
    "$+ 0.2 \\ \\times \\ 0.02 \\ \\times \\ 0.9 \\ \\times \\ 0.01 \\ \\times \\ 0.5$ $\\qquad$ (TTF)\n",
    "\n",
    "$+ 0.2 \\ \\times \\ 0.98 \\ \\times \\ 0.1 \\ \\times \\ 0.2 \\ \\times \\ 0.5$ $\\qquad$ (TFT)\n",
    "\n",
    "$+ 0.2 \\ \\times \\ 0.98 \\ \\times \\ 0.9 \\ \\times \\ 0.01 \\ \\times \\ 0.99$ $\\qquad$ (TFF)\n",
    "\n",
    "$+ 0.8 \\ \\times \\ 0.02 \\ \\times \\ 0.001 \\ \\times \\ 0.2 \\ \\times \\ 0.25$ $\\qquad$ (FTT)\n",
    "\n",
    "$+ 0.8 \\ \\times \\ 0.02 \\ \\times \\ 0.999 \\ \\times \\ 0.01 \\ \\times \\ 0.5$ $\\qquad$ (FTF)\n",
    "\n",
    "$+ 0.8 \\ \\times \\ 0.98 \\ \\times \\ 0.001 \\ \\times \\ 0.2 \\ \\times \\ 0.5$ $\\qquad$ (FFT)\n",
    "\n",
    "$+ 0.8 \\ \\times \\ 0.98 \\ \\times \\ 0.999 \\ \\times \\ 0.01 \\ \\times \\ 0.99)$ $\\qquad$ (FFF)\n",
    "\n",
    "$= \\alpha \\times 0.0116573184$"
   ]
  },
  {
   "cell_type": "code",
   "execution_count": 6,
   "id": "cc7d21e7",
   "metadata": {},
   "outputs": [
    {
     "name": "stdout",
     "output_type": "stream",
     "text": [
      "0.0116573184\n"
     ]
    }
   ],
   "source": [
    "# 확률 계산\n",
    "\n",
    "a = [0.2,0.2,0.2,0.2,0.8,0.8,0.8,0.8]\n",
    "b = [0.02,0.02,0.98,0.98,0.02,0.02,0.98,0.98]\n",
    "c = [0.1,0.9,0.1,0.9,0.001,0.999,0.001,0.999]\n",
    "d = [0.2,0.01,0.2,0.01,0.2,0.01,0.2,0.01]\n",
    "e = [0.25,0.5,0.5,0.99,0.25,0.5,0.5,0.99]\n",
    "sol2 = 0\n",
    "for i in range(8) :\n",
    "    sol2 += a[i]*b[i]*c[i]*d[i]*e[i]\n",
    "\n",
    "print(f'{sol2:.10f}')"
   ]
  },
  {
   "cell_type": "code",
   "execution_count": 7,
   "id": "8f2aa9b8",
   "metadata": {},
   "outputs": [
    {
     "name": "stdout",
     "output_type": "stream",
     "text": [
      "0.16446972477064223\n"
     ]
    }
   ],
   "source": [
    "# normalize\n",
    "alpha = 1/(sol1+sol2)\n",
    "\n",
    "prob = alpha * sol1\n",
    "print(prob)"
   ]
  },
  {
   "cell_type": "markdown",
   "id": "f5111b27",
   "metadata": {},
   "source": [
    "### $\\therefore P(Cough = T|ChestPain = T) \\approx 0.1645$"
   ]
  },
  {
   "cell_type": "markdown",
   "id": "91576ec1",
   "metadata": {},
   "source": [
    "# 6."
   ]
  },
  {
   "cell_type": "markdown",
   "id": "0e005706",
   "metadata": {},
   "source": [
    "### Write a code for calculating the conditional probability $P(LungDisease = T|Smokes =T, Cough = T)$ (Attach the code and result)"
   ]
  },
  {
   "cell_type": "markdown",
   "id": "9ba429b0",
   "metadata": {},
   "source": [
    "$Sol)$"
   ]
  },
  {
   "cell_type": "code",
   "execution_count": 9,
   "id": "bff8d498",
   "metadata": {},
   "outputs": [
    {
     "name": "stdout",
     "output_type": "stream",
     "text": [
      "lungTrue : 0.7392\n"
     ]
    }
   ],
   "source": [
    "# 조건부확률 계산\n",
    "predictions = model.predict_proba({\n",
    "    \"Smokes\": \"smokesTrue\",\n",
    "    \"Cough\" : \"coughTrue\"\n",
    "})\n",
    "\n",
    "# 결과 출력\n",
    "for node, prediction in zip(model.states, predictions):\n",
    "    if not isinstance(prediction, str):\n",
    "        for value, probability in prediction.parameters[0].items():\n",
    "            if value == 'lungTrue' :\n",
    "                print(f'{value} : {probability:.4f}')\n",
    "\n"
   ]
  },
  {
   "cell_type": "markdown",
   "id": "a963ae30",
   "metadata": {},
   "source": [
    "### $\\therefore P(LungDisease = T | Smokes = T, Cough = T) = 0.7392$"
   ]
  },
  {
   "cell_type": "markdown",
   "id": "87e0c913",
   "metadata": {},
   "source": [
    "# 7."
   ]
  },
  {
   "cell_type": "markdown",
   "id": "9d7b30fe",
   "metadata": {},
   "source": [
    "### Write the equation and explanation for calculating the probability of the Problem 6. (You can use the calculator)"
   ]
  },
  {
   "cell_type": "markdown",
   "id": "38842a3c",
   "metadata": {},
   "source": [
    "$Sol)$"
   ]
  },
  {
   "cell_type": "markdown",
   "id": "6ef4627a",
   "metadata": {},
   "source": [
    "$P(LungDisease = T|Smokes = T, Cough = T)$ \n",
    "\n",
    "$= \\sum_{Cold}\\alpha P(LungDisease = T, Smokes = T, Cough = T, \\textbf{Cold})$ \n",
    "\n",
    "$= \\sum_{Cold}\\alpha P(Smokes = T)P(LungDisease = T|Smokes = T)P(\\textbf{Cold})P(Cough = T|\\textbf{Cold},LungDisease = T)$"
   ]
  },
  {
   "cell_type": "markdown",
   "id": "2a818623",
   "metadata": {},
   "source": [
    "$= \\alpha \\ \\times \\ 0.2 \\ \\times \\ 0.1 \\ \\times \\ (0.02 \\ \\times \\ 0.75 + 0.98 \\ \\times \\ 0.5)$\n",
    "\n",
    "$= \\alpha \\ \\times \\ 0.0101$"
   ]
  },
  {
   "cell_type": "markdown",
   "id": "259ce8f7",
   "metadata": {},
   "source": [
    "$\\\\\\\\$\n",
    "\n",
    "Find $P(LungDisease = F|Smokes = T, Cough = T)$ in the same way."
   ]
  },
  {
   "cell_type": "markdown",
   "id": "20226547",
   "metadata": {},
   "source": [
    "$P(LungDisease = F|Smokes = T, Cough = T)$ \n",
    "\n",
    "$= \\sum_{Cold}\\alpha P(LungDisease = F, Smokes = T, Cough = T, \\textbf{Cold})$ \n",
    "\n",
    "$= \\sum_{Cold}\\alpha P(Smokes = T)P(LungDisease = F|Smokes = T)P(\\textbf{Cold})P(Cough = T|\\textbf{Cold},LungDisease = F)$"
   ]
  },
  {
   "cell_type": "markdown",
   "id": "178194e0",
   "metadata": {},
   "source": [
    "$= \\alpha \\ \\times \\ 0.2 \\ \\times \\ 0.9 \\ \\times \\ (0.02 \\ \\times \\ 0.5 + 0.98 \\ \\times \\ 0.01)$\n",
    "\n",
    "$= \\alpha \\ \\times \\ 0.003564$"
   ]
  },
  {
   "cell_type": "code",
   "execution_count": 10,
   "id": "db5820a5",
   "metadata": {},
   "outputs": [
    {
     "name": "stdout",
     "output_type": "stream",
     "text": [
      "0.739168618266979\n"
     ]
    }
   ],
   "source": [
    "#normalize\n",
    "\n",
    "alpha = 1/(0.0101+0.003564)\n",
    "\n",
    "prob = alpha * 0.0101\n",
    "print(prob)"
   ]
  },
  {
   "cell_type": "markdown",
   "id": "ee8e1e1c",
   "metadata": {},
   "source": [
    "### $\\therefore P(LungDisease = T|Smokes = T, Cough = T) \\approx 0.7392$"
   ]
  },
  {
   "cell_type": "markdown",
   "id": "2ecfc053",
   "metadata": {},
   "source": [
    "# 8."
   ]
  },
  {
   "cell_type": "markdown",
   "id": "96019132",
   "metadata": {},
   "source": [
    "### My presentation youtube link is https://youtu.be/k_jEqfjHH1I"
   ]
  },
  {
   "cell_type": "code",
   "execution_count": null,
   "id": "9b6e65ff",
   "metadata": {},
   "outputs": [],
   "source": []
  }
 ],
 "metadata": {
  "kernelspec": {
   "display_name": "Python 3 (ipykernel)",
   "language": "python",
   "name": "python3"
  },
  "language_info": {
   "codemirror_mode": {
    "name": "ipython",
    "version": 3
   },
   "file_extension": ".py",
   "mimetype": "text/x-python",
   "name": "python",
   "nbconvert_exporter": "python",
   "pygments_lexer": "ipython3",
   "version": "3.9.7"
  }
 },
 "nbformat": 4,
 "nbformat_minor": 5
}
