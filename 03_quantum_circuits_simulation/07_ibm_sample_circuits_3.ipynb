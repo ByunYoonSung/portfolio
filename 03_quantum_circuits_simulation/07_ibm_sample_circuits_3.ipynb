{
 "cells": [
  {
   "cell_type": "markdown",
   "id": "0b60326d",
   "metadata": {},
   "source": [
    "# Iterative Phase Estimation"
   ]
  },
  {
   "cell_type": "markdown",
   "id": "2eb426b5",
   "metadata": {},
   "source": [
    "$U | \\Psi \\rangle = e^{i2\\pi \\varphi} |\\Psi \\rangle$\n",
    "\n",
    "에서 위상 $\\varphi$를 estimate 하는 것이 목표."
   ]
  },
  {
   "cell_type": "markdown",
   "id": "2aacf1ad",
   "metadata": {},
   "source": [
    "$ \\varphi = \\varphi_1/2 + \\varphi_2/4 + \\varphi_3/8 + ... + \\varphi_m/2^m= 0.\\varphi_1\\varphi_2\\varphi_3 ...\\varphi_m$ (Binary expansion)"
   ]
  },
  {
   "cell_type": "markdown",
   "id": "2dd43349",
   "metadata": {},
   "source": [
    "Unitary gate $U$를 $2^t$번 가해주면, 위상은 $e^{i2\\pi\\varphi2^t}$만큼 변함"
   ]
  },
  {
   "cell_type": "markdown",
   "id": "54884030",
   "metadata": {},
   "source": [
    "$e^{i2\\pi\\varphi2^t} = e^{i2\\pi(0.\\varphi_1\\varphi_2\\varphi_3 ...\\varphi_m)(1000...0)} =e^{i2\\pi(\\varphi_1\\varphi_2...\\varphi_t.\\varphi_{t+1}...\\varphi_m)} = e^{i2\\pi(0.\\varphi_{t+1} ...\\varphi_m)}$"
   ]
  },
  {
   "cell_type": "markdown",
   "id": "d6377a89",
   "metadata": {},
   "source": [
    "$t = m-1 : e^{i2\\pi\\varphi2^{m-1}} = e^{i2\\pi(0.\\varphi_m)}$\n",
    "\n",
    "$t = m-2 : e^{i2\\pi\\varphi2^{m-2}} = e^{i2\\pi(0.\\varphi_{m-1}\\varphi_m)}= e^{i2\\pi(0.\\varphi_{m-1})}e^{i2\\pi(\\varphi_m)/4}$"
   ]
  },
  {
   "cell_type": "markdown",
   "id": "4e4e1d58",
   "metadata": {},
   "source": [
    "위 과정의 반복으로, $\\varphi_m$부터 $\\varphi_1$까지 위상의 각 자리수의 값을 구할 수 있다."
   ]
  },
  {
   "cell_type": "markdown",
   "id": "d1084ed2",
   "metadata": {},
   "source": [
    "만약 binary expansion으로 나타낼 수 없고, 무한소수 형태로 나타난다면??"
   ]
  },
  {
   "cell_type": "markdown",
   "id": "5cc3c95d",
   "metadata": {},
   "source": [
    "--> 오차 발생, 정확한 결과가 나오지 않기 때문에 각 자리별로 구해서 가장 확률이 높게 나오는 것을 채택함"
   ]
  },
  {
   "cell_type": "markdown",
   "id": "0a433662",
   "metadata": {},
   "source": [
    "----------------------"
   ]
  },
  {
   "cell_type": "markdown",
   "id": "ac3df4e5",
   "metadata": {},
   "source": [
    "S gate에 대해서 phase estimate 해보자"
   ]
  },
  {
   "cell_type": "markdown",
   "id": "63c5412e",
   "metadata": {},
   "source": [
    "eigenstate $| \\Psi \\rangle = | 1 \\rangle$, $\\varphi = 1/4 = 0.01$"
   ]
  },
  {
   "cell_type": "markdown",
   "id": "908b5bb0",
   "metadata": {},
   "source": [
    "# Exercise 1"
   ]
  },
  {
   "cell_type": "markdown",
   "id": "ec8530f6",
   "metadata": {},
   "source": [
    "$\\varphi_2$를 구하는 부분"
   ]
  },
  {
   "cell_type": "code",
   "execution_count": 56,
   "id": "35f2323b",
   "metadata": {},
   "outputs": [
    {
     "data": {
      "image/png": "[encoded data removed]",
      "text/plain": [
       "<Figure size 327.252x204.68 with 1 Axes>"
      ]
     },
     "execution_count": 56,
     "metadata": {},
     "output_type": "execute_result"
    }
   ],
   "source": [
    "from qiskit import ClassicalRegister, QuantumCircuit, QuantumRegister\n",
    "import numpy as np\n",
    "\n",
    "\n",
    "def step_1_circuit(qr: QuantumRegister, cr: ClassicalRegister) -> QuantumCircuit:\n",
    "    # qr is a quantum register with 2 qubits\n",
    "    # cr is a classical register with 2 bits\n",
    "\n",
    "    qc = QuantumCircuit(qr, cr)\n",
    "\n",
    "    ########## your code goes here #######\n",
    "\n",
    "    ##1 Initialization\n",
    "\n",
    "    q0, q1 = qr\n",
    "    # apply Hadamard on the auxiliary qubit\n",
    "    qc.h(q0)\n",
    "    # put the system qubit into the |1> state\n",
    "    qc.x(q1)\n",
    "\n",
    "    ##2 Apply control-U operator as many times as needed to get the least significant phase bit\n",
    "\n",
    "    # controlled-S is equivalent to CPhase with angle pi / 2\n",
    "    s_angle = np.pi / 2\n",
    "    # we want to apply controlled-S 2^k times\n",
    "    k = 1\n",
    "    # calculate the angle of CPhase corresponding to 2^k applications of controlled-S\n",
    "    cphase_angle = s_angle * 2**k\n",
    "    # apply the controlled phase gate\n",
    "    qc.cp(cphase_angle, q0, q1)\n",
    "\n",
    "    ##3 Measure the auxiliary qubit in x-basis into the first classical bit\n",
    "\n",
    "    # apply Hadamard to change to the X basis\n",
    "    qc.h(q0)\n",
    "    # measure the auxiliary qubit into the first classical bit\n",
    "    c0, _ = cr\n",
    "    qc.measure(q0, c0)\n",
    "\n",
    "    return qc\n",
    "\n",
    "\n",
    "qr = QuantumRegister(2, \"q\")\n",
    "cr = ClassicalRegister(2, \"c\")\n",
    "qc = QuantumCircuit(qr, cr)\n",
    "qc = step_1_circuit(qr, cr)\n",
    "qc.draw(\"mpl\")"
   ]
  },
  {
   "cell_type": "markdown",
   "id": "d2b26fc9",
   "metadata": {},
   "source": [
    "# Exercise 2"
   ]
  },
  {
   "cell_type": "markdown",
   "id": "8a1a604e",
   "metadata": {},
   "source": [
    "$\\phi_1$을 구하는 부분"
   ]
  },
  {
   "cell_type": "code",
   "execution_count": 57,
   "id": "1b444e20",
   "metadata": {},
   "outputs": [
    {
     "data": {
      "image/png": "[encoded data removed]",
      "text/plain": [
       "<Figure size 808.852x264.88 with 1 Axes>"
      ]
     },
     "execution_count": 57,
     "metadata": {},
     "output_type": "execute_result"
    }
   ],
   "source": [
    "def step_2_circuit(qr: QuantumRegister, cr: ClassicalRegister) -> QuantumCircuit:\n",
    "    # qr is a quantum register with 2 qubits\n",
    "    # cr is a classical register with 2 bits\n",
    "\n",
    "    # begin with the circuit from Step 1\n",
    "    qc = step_1_circuit(qr, cr)\n",
    "\n",
    "    ########## your code goes here #######\n",
    "\n",
    "    ##1 Reset and re-initialize the auxiliary qubit\n",
    "\n",
    "    q0, q1 = qr\n",
    "    # reset the auxiliary qubit\n",
    "    qc.reset(q0)\n",
    "    # apply Hadamard on the auxiiliary qubit\n",
    "    qc.h(q0)\n",
    "\n",
    "    ##2 Apply phase correction conditioned on the first classical bit\n",
    "\n",
    "    c0, c1 = cr\n",
    "    with qc.if_test((c0, 1)):\n",
    "        qc.p(-np.pi / 2, q0)\n",
    "\n",
    "    ##3 Apply control-U operator as many times as needed to get the next phase bit\n",
    "\n",
    "    # controlled-S is equivalent to CPhase with angle pi / 2\n",
    "    s_angle = np.pi / 2\n",
    "    # we want to apply controlled-S 2^k times\n",
    "    k = 0\n",
    "    # calculate the angle of CPhase corresponding to 2^k applications of controlled-S\n",
    "    cphase_angle = s_angle * 2**k\n",
    "    # apply the controlled phase gate\n",
    "    qc.cp(cphase_angle, q0, q1)\n",
    "\n",
    "    ##4 Measure the auxiliary qubit in x-basis into the second classical bit\n",
    "\n",
    "    # apply Hadamard to change to the X basis\n",
    "    qc.h(q0)\n",
    "    # measure the auxiliary qubit into the first classical bit\n",
    "    qc.measure(q0, c1)\n",
    "\n",
    "    return qc\n",
    "\n",
    "\n",
    "qr = QuantumRegister(2, \"q\")\n",
    "cr = ClassicalRegister(2, \"c\")\n",
    "qc = QuantumCircuit(qr, cr)\n",
    "qc = step_2_circuit(qr, cr)\n",
    "qc.draw(\"mpl\")"
   ]
  },
  {
   "cell_type": "code",
   "execution_count": 58,
   "id": "59c184fd",
   "metadata": {},
   "outputs": [
    {
     "data": {
      "text/plain": [
       "{'01': 1000}"
      ]
     },
     "execution_count": 58,
     "metadata": {},
     "output_type": "execute_result"
    }
   ],
   "source": [
    "from qiskit_aer import AerSimulator\n",
    "\n",
    "sim = AerSimulator()\n",
    "job = sim.run(qc, shots=1000)\n",
    "result = job.result()\n",
    "counts = result.get_counts()\n",
    "counts"
   ]
  },
  {
   "cell_type": "markdown",
   "id": "69d5972b",
   "metadata": {},
   "source": [
    "# Exercise 3"
   ]
  },
  {
   "cell_type": "markdown",
   "id": "f63e4cf4",
   "metadata": {},
   "source": [
    "T gate 에 대해서 풀어보자.\n",
    "\n",
    "eigenstate $| \\Psi \\rangle = | 1 \\rangle$, $\\varphi = 1/8 = 0.001$"
   ]
  },
  {
   "cell_type": "code",
   "execution_count": 75,
   "id": "a69d7c67",
   "metadata": {},
   "outputs": [
    {
     "data": {
      "image/png": "[encoded data removed]",
      "text/plain": [
       "<Figure size 1410.85x325.08 with 1 Axes>"
      ]
     },
     "execution_count": 75,
     "metadata": {},
     "output_type": "execute_result"
    }
   ],
   "source": [
    "from qiskit import ClassicalRegister, QuantumCircuit, QuantumRegister\n",
    "import numpy as np\n",
    "\n",
    "\n",
    "def t_gate_ipe_circuit(qr: QuantumRegister, cr: ClassicalRegister) -> QuantumCircuit:\n",
    "    # qr is a quantum register with 2 qubits\n",
    "    # cr is a classical register with 3 bits\n",
    "\n",
    "    qc = QuantumCircuit(qr, cr)\n",
    "\n",
    "    ########## your code goes here #######\n",
    "\n",
    "    # Initialization\n",
    "    q0, q1 = qr\n",
    "    qc.h(q0)\n",
    "    qc.x(q1)\n",
    "\n",
    "    # Apply control-U operator as many times as needed to get the least significant phase bit\n",
    "    t_angle = np.pi / 4\n",
    "    k = 2\n",
    "    cphase_angle = t_angle * 2**k\n",
    "    qc.cp(cphase_angle, q0, q1)\n",
    "\n",
    "    # Measure the auxiliary qubit in x-basis into the first classical bit\n",
    "    qc.h(q0)\n",
    "    c0, c1, c2 = cr\n",
    "    qc.measure(q0, c0)\n",
    "\n",
    "    # Reset and re-initialize the auxiliary qubit\n",
    "    qc.reset(q0)\n",
    "    qc.h(q0)\n",
    "\n",
    "    # Apply phase correction conditioned on the first classical bit\n",
    "    with qc.if_test((c0, 1)):\n",
    "        qc.p(-np.pi / 2, q0)\n",
    "\n",
    "    # Apply control-U operator as many times as needed to get the next phase bit\n",
    "    k = 1\n",
    "    cphase_angle = t_angle * 2**k\n",
    "    qc.cp(cphase_angle, q0, q1)\n",
    "\n",
    "    # Measure the auxiliary qubit in x-basis into the second classical bit\n",
    "    qc.h(q0)\n",
    "    qc.measure(q0, c1)\n",
    "\n",
    "    # Reset and re-initialize the auxiliary qubit\n",
    "    qc.reset(q0)\n",
    "    qc.h(q0)\n",
    "\n",
    "    # Apply phase correction conditioned on the first and second classical bits\n",
    "    with qc.if_test((c0, 1)):\n",
    "        qc.p(-np.pi / 4, q0)\n",
    "    with qc.if_test((c1, 1)):\n",
    "        qc.p(-np.pi / 2, q0)\n",
    "\n",
    "    # Apply control-U operator as many times as needed to get the next phase bit\n",
    "    k = 0\n",
    "    cphase_angle = t_angle * 2**k\n",
    "    qc.cp(cphase_angle, q0, q1)\n",
    "\n",
    "    # Measure the auxiliary qubit in x-basis into the third classical bit\n",
    "    qc.h(q0)\n",
    "    qc.measure(q0, c2)\n",
    "\n",
    "    return qc\n",
    "\n",
    "\n",
    "qr = QuantumRegister(2, \"q\")\n",
    "cr = ClassicalRegister(3, \"c\")\n",
    "qc = QuantumCircuit(qr, cr)\n",
    "qc = t_gate_ipe_circuit(qr, cr)\n",
    "qc.draw(\"mpl\")\n"
   ]
  },
  {
   "cell_type": "code",
   "execution_count": 60,
   "id": "865be0be",
   "metadata": {},
   "outputs": [
    {
     "data": {
      "text/plain": [
       "{'001': 1000}"
      ]
     },
     "execution_count": 60,
     "metadata": {},
     "output_type": "execute_result"
    }
   ],
   "source": [
    "from qiskit_aer import AerSimulator\n",
    "\n",
    "sim = AerSimulator()\n",
    "job = sim.run(qc, shots=1000)\n",
    "result = job.result()\n",
    "counts = result.get_counts()\n",
    "counts"
   ]
  },
  {
   "cell_type": "markdown",
   "id": "788d482f",
   "metadata": {},
   "source": [
    "# 위상을 Binary 형태로 나타낼 수 없는 경우"
   ]
  },
  {
   "cell_type": "markdown",
   "id": "3bfe3032",
   "metadata": {},
   "source": [
    "$\\varphi=1/3$이라면?"
   ]
  },
  {
   "cell_type": "markdown",
   "id": "a11939f2",
   "metadata": {},
   "source": [
    "$1/3 = 0.01010101...$ --> 소수 둘째자리까지만 estimate"
   ]
  },
  {
   "cell_type": "markdown",
   "id": "05f8a25c",
   "metadata": {},
   "source": [
    "오차가 발생한다"
   ]
  },
  {
   "cell_type": "code",
   "execution_count": 63,
   "id": "f0057fb1",
   "metadata": {},
   "outputs": [
    {
     "data": {
      "image/png": "[encoded data removed]",
      "text/plain": [
       "<Figure size 869.052x264.88 with 1 Axes>"
      ]
     },
     "execution_count": 63,
     "metadata": {},
     "output_type": "execute_result"
    }
   ],
   "source": [
    "from qiskit import ClassicalRegister, QuantumCircuit, QuantumRegister\n",
    "import numpy as np\n",
    "\n",
    "\n",
    "def u_circuit(qr: QuantumRegister, cr: ClassicalRegister) -> QuantumCircuit:\n",
    "    # qr is a quantum register with 2 qubits\n",
    "    # cr is a classical register with 2 bits\n",
    "\n",
    "    qc = QuantumCircuit(qr, cr)\n",
    "\n",
    "    # Initialization\n",
    "    q0, q1 = qr\n",
    "    qc.h(q0)\n",
    "    qc.x(q1)\n",
    "\n",
    "    # Apply control-U operator as many times as needed to get the least significant phase bit\n",
    "    u_angle = 2 * np.pi / 3\n",
    "    k = 1\n",
    "    cphase_angle = u_angle * 2**k\n",
    "    qc.cp(cphase_angle, q0, q1)\n",
    "\n",
    "    # Measure the auxiliary qubit in x-basis into the first classical bit\n",
    "    qc.h(q0)\n",
    "    c0, c1 = cr\n",
    "    qc.measure(q0, c0)\n",
    "\n",
    "    # Reset and re-initialize the auxiliary qubit\n",
    "    qc.reset(q0)\n",
    "    qc.h(q0)\n",
    "\n",
    "    # Apply phase correction conditioned on the first classical bit\n",
    "    with qc.if_test((c0, 1)):\n",
    "        qc.p(-np.pi / 2, q0)\n",
    "\n",
    "    # Apply control-U operator as many times as needed to get the next phase bit\n",
    "    k = 0\n",
    "    cphase_angle = u_angle * 2**k\n",
    "    qc.cp(cphase_angle, q0, q1)\n",
    "\n",
    "    # Measure the auxiliary qubit in x-basis into the second classical bit\n",
    "    qc.h(q0)\n",
    "    qc.measure(q0, c1)\n",
    "\n",
    "    return qc\n",
    "\n",
    "\n",
    "qr = QuantumRegister(2, \"q\")\n",
    "cr = ClassicalRegister(2, \"c\")\n",
    "qc = QuantumCircuit(qr, cr)\n",
    "qc = u_circuit(qr, cr)\n",
    "qc.draw(\"mpl\")"
   ]
  },
  {
   "cell_type": "code",
   "execution_count": 64,
   "id": "a9880768",
   "metadata": {},
   "outputs": [
    {
     "name": "stdout",
     "output_type": "stream",
     "text": [
      "{'01': 692, '10': 196, '11': 59, '00': 53}\n",
      "Success probability: 0.692\n"
     ]
    }
   ],
   "source": [
    "from qiskit_aer import AerSimulator\n",
    "\n",
    "sim = AerSimulator()\n",
    "job = sim.run(qc, shots=1000)\n",
    "result = job.result()\n",
    "counts = result.get_counts()\n",
    "print(counts)\n",
    "success_probability = counts[\"01\"] / counts.shots()\n",
    "print(f\"Success probability: {success_probability}\")"
   ]
  },
  {
   "cell_type": "code",
   "execution_count": 65,
   "id": "b9c38b4b",
   "metadata": {},
   "outputs": [
    {
     "data": {
      "image/png": "[encoded data removed]",
      "text/plain": [
       "<Figure size 504x360 with 1 Axes>"
      ]
     },
     "execution_count": 65,
     "metadata": {},
     "output_type": "execute_result"
    }
   ],
   "source": [
    "from qiskit.visualization import plot_histogram\n",
    "plot_histogram(counts)"
   ]
  },
  {
   "cell_type": "markdown",
   "id": "bb67a58d",
   "metadata": {},
   "source": [
    "오차 줄이는 방법 :\n",
    "    \n",
    "    각 자리의 phase에 대해 실험 반복."
   ]
  },
  {
   "cell_type": "code",
   "execution_count": 66,
   "id": "ebea5a2f",
   "metadata": {},
   "outputs": [
    {
     "data": {
      "image/png": "[encoded data removed]",
      "text/plain": [
       "<Figure size 387.452x204.68 with 1 Axes>"
      ]
     },
     "execution_count": 66,
     "metadata": {},
     "output_type": "execute_result"
    }
   ],
   "source": [
    "from qiskit import ClassicalRegister, QuantumCircuit, QuantumRegister\n",
    "import numpy as np\n",
    "\n",
    "\n",
    "def u_circuit(qr: QuantumRegister, cr: ClassicalRegister) -> QuantumCircuit:\n",
    "    # qr is a quantum register with 2 qubits\n",
    "    # cr is a classical register with 1 bits\n",
    "\n",
    "    qc = QuantumCircuit(qr, cr)\n",
    "\n",
    "    # Initialization\n",
    "    q0, q1 = qr\n",
    "    qc.h(q0)\n",
    "    qc.x(q1)\n",
    "\n",
    "    # Apply control-U operator as many times as needed to get the least significant phase bit\n",
    "    u_angle = 2 * np.pi / 3\n",
    "    k = 1\n",
    "    cphase_angle = u_angle * 2**k\n",
    "    qc.cp(cphase_angle, q0, q1)\n",
    "\n",
    "    # Measure the auxiliary qubit in x-basis\n",
    "    qc.h(q0)\n",
    "    (c0,) = cr\n",
    "    qc.measure(q0, c0)\n",
    "\n",
    "    return qc\n",
    "\n",
    "\n",
    "qr = QuantumRegister(2, \"q\")\n",
    "cr = ClassicalRegister(1, \"c\")\n",
    "qc = QuantumCircuit(qr, cr)\n",
    "qc = u_circuit(qr, cr)\n",
    "qc.draw(\"mpl\")"
   ]
  },
  {
   "cell_type": "code",
   "execution_count": 67,
   "id": "2b989a47",
   "metadata": {},
   "outputs": [
    {
     "name": "stdout",
     "output_type": "stream",
     "text": [
      "{'0': 25, '1': 75}\n"
     ]
    }
   ],
   "source": [
    "job = sim.run(qc, shots=100)\n",
    "result = job.result()\n",
    "counts = result.get_counts()\n",
    "print(counts)"
   ]
  },
  {
   "cell_type": "markdown",
   "id": "5f169993",
   "metadata": {},
   "source": [
    "# Exercise 4"
   ]
  },
  {
   "cell_type": "code",
   "execution_count": 68,
   "id": "81a76668",
   "metadata": {},
   "outputs": [
    {
     "name": "stdout",
     "output_type": "stream",
     "text": [
      "1\n"
     ]
    }
   ],
   "source": [
    "step1_bit: int\n",
    "\n",
    "########## your code goes here #######\n",
    "step1_bit = 1 if counts[\"1\"] > counts[\"0\"] else 0\n",
    "\n",
    "print(step1_bit)"
   ]
  },
  {
   "cell_type": "markdown",
   "id": "bf635064",
   "metadata": {},
   "source": [
    "# Exercise 5"
   ]
  },
  {
   "cell_type": "code",
   "execution_count": 71,
   "id": "512745e9",
   "metadata": {},
   "outputs": [
    {
     "data": {
      "image/png": "[encoded data removed]",
      "text/plain": [
       "<Figure size 688.452x264.88 with 1 Axes>"
      ]
     },
     "execution_count": 71,
     "metadata": {},
     "output_type": "execute_result"
    }
   ],
   "source": [
    "from qiskit import ClassicalRegister, QuantumCircuit, QuantumRegister\n",
    "import numpy as np\n",
    "\n",
    "\n",
    "def u_circuit(qr: QuantumRegister, cr: ClassicalRegister) -> QuantumCircuit:\n",
    "    # qr is a quantum register with 2 qubits\n",
    "    # cr is a classical register with 2 bits\n",
    "\n",
    "    qc = QuantumCircuit(qr, cr)\n",
    "\n",
    "    ########## your code goes here #######\n",
    "\n",
    "    # Initialization\n",
    "    q0, q1 = qr\n",
    "    if step1_bit:\n",
    "        qc.x(q0)\n",
    "    qc.x(q1)\n",
    "\n",
    "    # Measure the auxiliary qubit\n",
    "    c0, c1 = cr\n",
    "    qc.measure(q0, c0)\n",
    "\n",
    "    # Reset and re-initialize the auxiliary qubit\n",
    "    qc.reset(q0)\n",
    "    qc.h(q0)\n",
    "\n",
    "    # Apply phase correction conditioned on the first classical bit\n",
    "    with qc.if_test((c0, 1)):\n",
    "        qc.p(-np.pi / 2, q0)\n",
    "\n",
    "    # Apply control-U operator as many times as needed to get the next phase bit\n",
    "    u_angle = 2 * np.pi / 3\n",
    "    k = 0\n",
    "    cphase_angle = u_angle * 2**k\n",
    "    qc.cp(cphase_angle, q0, q1)\n",
    "\n",
    "    # Measure the auxiliary qubit in x-basis into the second classical bit\n",
    "    qc.h(q0)\n",
    "    qc.measure(q0, c1)\n",
    "\n",
    "    return qc\n",
    "\n",
    "\n",
    "qr = QuantumRegister(2, \"q\")\n",
    "cr = ClassicalRegister(2, \"c\")\n",
    "qc = QuantumCircuit(qr, cr)\n",
    "qc = u_circuit(qr, cr)\n",
    "qc.draw(\"mpl\")"
   ]
  },
  {
   "cell_type": "code",
   "execution_count": 72,
   "id": "75cabc3a",
   "metadata": {},
   "outputs": [
    {
     "name": "stdout",
     "output_type": "stream",
     "text": [
      "{'01': 9320, '11': 680}\n",
      "Success probability: 0.932\n"
     ]
    }
   ],
   "source": [
    "from qiskit_aer import AerSimulator\n",
    "\n",
    "sim = AerSimulator()\n",
    "job = sim.run(qc, shots=10000)\n",
    "result = job.result()\n",
    "counts = result.get_counts()\n",
    "print(counts)\n",
    "success_probability = counts[\"01\"] / counts.shots()\n",
    "print(f\"Success probability: {success_probability}\")"
   ]
  },
  {
   "cell_type": "code",
   "execution_count": 74,
   "id": "e16c5cb5",
   "metadata": {},
   "outputs": [
    {
     "data": {
      "image/png": "[encoded data removed]",
      "text/plain": [
       "<Figure size 504x360 with 1 Axes>"
      ]
     },
     "execution_count": 74,
     "metadata": {},
     "output_type": "execute_result"
    }
   ],
   "source": [
    "plot_histogram(counts)"
   ]
  }
 ],
 "metadata": {
  "kernelspec": {
   "display_name": "Python 3 (ipykernel)",
   "language": "python",
   "name": "python3"
  },
  "language_info": {
   "codemirror_mode": {
    "name": "ipython",
    "version": 3
   },
   "file_extension": ".py",
   "mimetype": "text/x-python",
   "name": "python",
   "nbconvert_exporter": "python",
   "pygments_lexer": "ipython3",
   "version": "3.9.7"
  }
 },
 "nbformat": 4,
 "nbformat_minor": 5
}
