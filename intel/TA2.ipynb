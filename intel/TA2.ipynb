{
 "cells": [
  {
   "cell_type": "code",
   "execution_count": 1,
   "id": "394df228",
   "metadata": {},
   "outputs": [],
   "source": [
    "import numpy as np\n",
    "from pomegranate import *"
   ]
  },
  {
   "cell_type": "code",
   "execution_count": 2,
   "id": "496a0786",
   "metadata": {},
   "outputs": [],
   "source": [
    "rain = Node(DiscreteDistribution({\n",
    "    'none' : 0.7,\n",
    "    'light' : 0.2,\n",
    "    'heavy' : 0.1\n",
    "}),name='rain')\n",
    "\n",
    "maintenance = Node(ConditionalProbabilityTable([\n",
    "    ['none','yes',0.4],\n",
    "    ['none','no',0.6],\n",
    "    ['light','yes',0.2],\n",
    "    ['light','no',0.8],\n",
    "    ['heavy','yes',0.1],\n",
    "    ['heavy','no',0.9],\n",
    "],[rain.distribution]),name='maintenance')\n",
    "\n",
    "train = Node(ConditionalProbabilityTable([\n",
    "    ['none','yes','on time',0.8],\n",
    "    ['none','yes','delayed',0.2],\n",
    "    ['none','no','on time',0.9],\n",
    "    ['none','no','delayed',0.1],\n",
    "    ['light','yes','on time',0.6],\n",
    "    ['light','yes','delayed',0.4],\n",
    "    ['light','no','on time',0.7],\n",
    "    ['light','no','delayed',0.3],\n",
    "    ['heavy','yes','on time',0.4],\n",
    "    ['heavy','yes','delayed',0.6],\n",
    "    ['heavy','no','on time',0.5],\n",
    "    ['heavy','no','delayed',0.5],\n",
    "],[rain.distribution,maintenance.distribution]),name='train')\n",
    "\n",
    "\n",
    "appointment = Node(ConditionalProbabilityTable([\n",
    "    ['on time','attend',0.9],\n",
    "    ['on time','miss',0.1],\n",
    "    ['delayed','attend',0.6],\n",
    "    ['delayed','miss',0.4],\n",
    "],[train.distribution]),name='appointment')"
   ]
  },
  {
   "cell_type": "code",
   "execution_count": 3,
   "id": "982b8beb",
   "metadata": {},
   "outputs": [],
   "source": [
    "model = BayesianNetwork()\n",
    "\n",
    "model.add_states(rain,maintenance,train,appointment)"
   ]
  },
  {
   "cell_type": "code",
   "execution_count": 4,
   "id": "33fb7205",
   "metadata": {},
   "outputs": [],
   "source": [
    "model.add_edge(rain,maintenance)\n",
    "model.add_edge(rain,train)\n",
    "model.add_edge(maintenance,train)\n",
    "model.add_edge(train,appointment)"
   ]
  },
  {
   "cell_type": "code",
   "execution_count": 5,
   "id": "c347c0b1",
   "metadata": {},
   "outputs": [],
   "source": [
    "model.bake()"
   ]
  },
  {
   "cell_type": "code",
   "execution_count": 6,
   "id": "74e8f1ad",
   "metadata": {},
   "outputs": [
    {
     "data": {
      "text/plain": [
       "0.34019999999999995"
      ]
     },
     "execution_count": 6,
     "metadata": {},
     "output_type": "execute_result"
    }
   ],
   "source": [
    "prob = model.probability([['none','no','on time','attend']])\n",
    "prob"
   ]
  },
  {
   "cell_type": "code",
   "execution_count": 7,
   "id": "4c6f6da7",
   "metadata": {},
   "outputs": [
    {
     "name": "stdout",
     "output_type": "stream",
     "text": [
      "rain\n",
      " none: 0.4583\n",
      " light: 0.3069\n",
      " heavy: 0.2348\n",
      "maintenance\n",
      " no: 0.6432\n",
      " yes: 0.3568\n",
      "train: delayed\n",
      "appointment\n",
      " miss: 0.4000\n",
      " attend: 0.6000\n"
     ]
    }
   ],
   "source": [
    "predictions = model.predict_proba({\n",
    "    \"train\" : \"delayed\"\n",
    "})\n",
    "\n",
    "for node, prediction in zip(model.states, predictions):\n",
    "    if isinstance(prediction, str):\n",
    "        print(f\"{node.name}: {prediction}\")\n",
    "    else:\n",
    "        print(f\"{node.name}\")\n",
    "        for value, probability in prediction.parameters[0].items():\n",
    "            print(f\" {value}: {probability:.4f}\")"
   ]
  }
 ],
 "metadata": {
  "kernelspec": {
   "display_name": "Python 3 (ipykernel)",
   "language": "python",
   "name": "python3"
  },
  "language_info": {
   "codemirror_mode": {
    "name": "ipython",
    "version": 3
   },
   "file_extension": ".py",
   "mimetype": "text/x-python",
   "name": "python",
   "nbconvert_exporter": "python",
   "pygments_lexer": "ipython3",
   "version": "3.9.7"
  }
 },
 "nbformat": 4,
 "nbformat_minor": 5
}
