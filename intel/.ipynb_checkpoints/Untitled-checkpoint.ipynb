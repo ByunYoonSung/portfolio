{
 "cells": [
  {
   "cell_type": "code",
   "execution_count": 1,
   "id": "81447c58",
   "metadata": {},
   "outputs": [],
   "source": [
    "import numpy as np\n",
    "import matplotlib.pyplot as plt"
   ]
  },
  {
   "cell_type": "markdown",
   "id": "fbe53815",
   "metadata": {},
   "source": [
    "# Set"
   ]
  },
  {
   "cell_type": "code",
   "execution_count": 10,
   "id": "8b1a1604",
   "metadata": {},
   "outputs": [
    {
     "name": "stdout",
     "output_type": "stream",
     "text": [
      "{1, 2, 3, 4, 5, 6, 7}\n",
      "{'o', 'l', 'h', 'e'}\n"
     ]
    }
   ],
   "source": [
    "a = (1,2,3,3,4,5,6,6,6,7)\n",
    "print(set(a))\n",
    "\n",
    "strings = 'hello'\n",
    "print(set(strings))\n",
    "\n",
    "b = (5,5,6,7,8,8,9,9,9)\n",
    "\n"
   ]
  },
  {
   "cell_type": "code",
   "execution_count": null,
   "id": "c225dc75",
   "metadata": {},
   "outputs": [],
   "source": [
    "class Car :\n",
    "    def __init__(self,brand,color,year,current_speed) :\n",
    "        self.brand = brand\n",
    "        self.color = color\n",
    "        self.year = year\n",
    "        self.current_speed = current_speed\n",
    "        "
   ]
  }
 ],
 "metadata": {
  "kernelspec": {
   "display_name": "Python 3 (ipykernel)",
   "language": "python",
   "name": "python3"
  },
  "language_info": {
   "codemirror_mode": {
    "name": "ipython",
    "version": 3
   },
   "file_extension": ".py",
   "mimetype": "text/x-python",
   "name": "python",
   "nbconvert_exporter": "python",
   "pygments_lexer": "ipython3",
   "version": "3.9.7"
  }
 },
 "nbformat": 4,
 "nbformat_minor": 5
}
